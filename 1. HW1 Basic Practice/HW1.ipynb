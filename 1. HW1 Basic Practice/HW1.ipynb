{
  "cells": [
    {
      "cell_type": "markdown",
      "metadata": {
        "id": "OiQEBNabNG0_"
      },
      "source": [
        "# **Homework**\n",
        "- Data: 4/2~4/5\n",
        "- Name: 王聿峰"
      ]
    },
    {
      "cell_type": "markdown",
      "metadata": {
        "id": "d9wsHVSO3NAn"
      },
      "source": [
        "### **(1) A Phone Book**\n",
        "Write a problem that allows user to store and search contact information.\n",
        "Each entry of the contact information should contain the `name` and `phone`. As an example using `dict`, it would look like\n",
        "\n",
        "`\n",
        "{\n",
        "  \"name\": \"John\",\n",
        "  \"phone\": \"0987-654321,\n",
        "}\n",
        "`\n",
        "<br/><br/>\n",
        "You may use a `list` of `dict` as data structure of the phone book, or if you prefer, any other suitable data container to implement the phone book.\n",
        "As an example using `list` of `dict`, it would look like\n",
        "\n",
        "`\n",
        "[{\n",
        "  \"name\": \"John\",\n",
        "  \"phone\": \"0987-654321,\n",
        "}, {\n",
        "  \"name\": \"Andrew\",\n",
        "  \"phone\": \"0912-343531,\n",
        "}, {\n",
        "  \"name\": \"Catherine\",\n",
        "  \"phone\": \"0956-396471,\n",
        "}, ... ]\n",
        "`\n",
        "<br/><br/>\n",
        "**Requirements**\n",
        "1. Implement a function `add(name, phone)` which allows user to add an entry to the phone book.\n",
        "1. Implement a function `find(name=\"\", phone=\"\")` which allows user to search the phone book ***either*** by \"name\" or \"phone\".\n",
        "1. Implement a function `print_all()` which allows user to print the phone book. For each line, print one entry in the format of `\"name / phone number\"`.\n",
        "\n"
      ]
    },
    {
      "cell_type": "code",
      "execution_count": null,
      "metadata": {
        "id": "_ou-ph3GNFGi"
      },
      "outputs": [],
      "source": [
        "class Phonebook:\n",
        "  def __init__(self, pb):\n",
        "    self.pb = pb\n",
        "    self.val_pb = pb.values() # values of pb\n",
        "\n",
        "  def add(self, name, phone):\n",
        "    self.pb[\"{}\".format(name)] = phone # add the new dict into pb\n",
        "    return self.pb\n",
        "\n",
        "  def find(self, key):\n",
        "    if key in self.pb: # key in pb.keys\n",
        "      print(\"{}'s phone is {}\".format(key, self.pb[key])) \n",
        "\n",
        "    elif key in self.val_pb: # key in pb.values\n",
        "      pb_ = {v : k for k, v in self.pb.items()} # change keys and values position\n",
        "      print(\"{}'s phone is {}\".format(pb_[key], key))\n",
        "      \n",
        "    else: # if type wrong key\n",
        "      print(\"{} is not in phone book!\".format(key))\n",
        "\n",
        "  def print_all(self):\n",
        "    for i,j in self.pb.items():\n",
        "      print(i, \"\\t/\", j)"
      ]
    },
    {
      "cell_type": "code",
      "execution_count": null,
      "metadata": {
        "colab": {
          "background_save": true,
          "base_uri": "https://localhost:8080/"
        },
        "id": "UqE5aAkMSBY9",
        "outputId": "725a0a6b-91d7-437a-d62e-4306dd6be718"
      },
      "outputs": [
        {
          "name": "stdout",
          "output_type": "stream",
          "text": [
            "系統提供以下功能\n",
            "    1：添加\n",
            "    2：刪除\n",
            "    3：搜索\n",
            "    4：退出\n",
            "    5: 顯示全部聯繫人信息\n"
          ]
        }
      ],
      "source": [
        "import pickle as p\n",
        "class phonebook:\n",
        "    notes={}\n",
        "    def add(self):\n",
        "        name = input('請輸入要添加的聯繫人姓名')\n",
        "        if name in phonebook.notes:\n",
        "            print('該聯繫人已經存在')\n",
        "        else:\n",
        "          telephone =  (input('請輸入聯繫人電話號碼'))\n",
        "          \n",
        "          label={'電話':telephone}\n",
        "          phonebook.notes[name]=label\n",
        "\n",
        "    def dele(self):\n",
        "      name = (input('請輸入要刪除的聯繫人姓名'))\n",
        "      if name in phonebook.notes:\n",
        "        del phonebook.notes[name]\n",
        "        print (\"%s\" %  phonebook.notes.items())\n",
        "      else:\n",
        "        print('聯繫人 %s 不存在'%name)\n",
        "\n",
        "    def search(self):\n",
        "      name = (input('請輸入要搜索的聯繫人姓名'))\n",
        "      if name in phonebook.notes:\n",
        "         print('聯繫人 %s 的電話號碼是 %s , '%(name,phonebook.notes[name]['電話']))\n",
        "      else:\n",
        "         print('聯繫人 %s 不存在'%name)\n",
        "\n",
        "    \n",
        "    def write(self):\n",
        "      f = open('聯繫人.txt','wb+')\n",
        "      p.dump(phonebook.notes,f)\n",
        "      f.close()\n",
        "    def read(self):\n",
        "      file = '聯繫人.txt'\n",
        "      try:\n",
        "        f = open(file ,'rb+')\n",
        "        phonebook.notes = p.load(f)\n",
        "        f.close()\n",
        "      except:\n",
        "        f = open(file ,'w')\n",
        "        f.close()\n",
        "    def show(self):\n",
        "      print(phonebook.notes)\n",
        "\n",
        "def menu():\n",
        "    print('''系統提供以下功能\n",
        "    1：添加\n",
        "    2：刪除\n",
        "    3：搜索\n",
        "    4：退出\n",
        "    5: 顯示全部聯繫人信息''')\n",
        "\n",
        "people = phonebook()\n",
        "people.read()\n",
        "while True:\n",
        "  try:\n",
        "    menu()\n",
        "    choice = int(input('請輸入相應數字操作'))\n",
        "    if choice==1:\n",
        "        people.add()\n",
        "    elif choice ==2:\n",
        "        people.dele()\n",
        "    elif choice ==3:\n",
        "        people.search()\n",
        "    elif choice ==4:\n",
        "        people.write()\n",
        "        break\n",
        "    elif choice==5:\n",
        "        people.show()\n",
        "    else:\n",
        "        print('輸入不合法，請輸入合法數字')\n",
        "  except ValueError:\n",
        "      print('請輸入數字選項')"
      ]
    },
    {
      "cell_type": "markdown",
      "metadata": {
        "id": "x_chx3Jab5OW"
      },
      "source": [
        "### **(2) Find a missing number from a list**\n",
        "Use a function and write a python program to find a missing number from a list. \n",
        "\n",
        "Ex. `Input: [1, 2, 3, 5, 6, 7]`, `Output: 4`\n"
      ]
    },
    {
      "cell_type": "code",
      "execution_count": null,
      "metadata": {
        "id": "Y7i4Qjcvb_dR"
      },
      "outputs": [],
      "source": [
        "def find_missing(lst):\n",
        "    return sorted(set(range(lst[0], lst[-1])) - set(lst))\n",
        "lst = [1,5,8,6,9,10,11]\n",
        "print(find_missing(lst))"
      ]
    },
    {
      "cell_type": "code",
      "execution_count": null,
      "metadata": {
        "id": "Itwr8CW8daHE"
      },
      "outputs": [],
      "source": [
        "li = [1, 5, 8, 6, 9, 10, 11]\n",
        "miss(li)"
      ]
    },
    {
      "cell_type": "markdown",
      "metadata": {
        "id": "PYQmU6jueyC2"
      },
      "source": [
        "### **(3) Reverse a string**\n",
        "\n",
        "Write a function to reverse a string.\n",
        "\n",
        "Sample String : \"abcd4567\"\n",
        "\n",
        "Expected Output : \"7654dcba\""
      ]
    },
    {
      "cell_type": "code",
      "execution_count": null,
      "metadata": {
        "id": "djz1lY9Te3Rc"
      },
      "outputs": [],
      "source": [
        "def reverse_string(str):  \n",
        "    str1 = \"\" \n",
        "    for i in str:  \n",
        "        str1 = i + str1  \n",
        "    return str1      \n",
        "     \n",
        "str = \"abcd4567\"           \n",
        "print(reverse_string(str))  "
      ]
    },
    {
      "cell_type": "code",
      "execution_count": null,
      "metadata": {
        "id": "di5ZwArafCw5"
      },
      "outputs": [],
      "source": [
        "string = \"abcd467\"\n",
        "rev(string)"
      ]
    },
    {
      "cell_type": "markdown",
      "metadata": {
        "id": "Rd67RPR2tVyi"
      },
      "source": [
        "### **(4) Calculate the harmonic sum**\n",
        "Harmonic series is inverse of a arithmetic progression. In general, the terms in a harmonic progression can be denoted as 1/a, 1/(a + d), 1/(a + 2d), 1/(a + 3d) …. 1/(a + nd). \n",
        "As Nth term of AP is given as ( a + (n – 1)d). Hence, Nth term of harmonic progression is reciprocal of Nth term of AP, which is 1/(a + (n – 1)d), where “a” is the 1st term of AP and “d” is a common difference.\n",
        "\n",
        "Example:\n",
        "\n",
        "![CodeCogsEqn.png](data:image/png;base64,iVBORw0KGgoAAAANSUhEUgAAALcAAAAlBAMAAADy7mXkAAAAMFBMVEX///8AAAAAAAAAAAAAAAAAAAAAAAAAAAAAAAAAAAAAAAAAAAAAAAAAAAAAAAAAAAAv3aB7AAAAD3RSTlMARM0yInYQiatmmbtU3e/6iv2wAAAACXBIWXMAAA7EAAAOxAGVKw4bAAAB5UlEQVRIDe2WPywDYRjGH3qOI1rMBmFglHSwcYvE2DCIhZvYkPhbBkJwEYkaGgkLE9FYxGTqbGSzWAwm8SeREEkdd9d63q+nHdqtt3zf83vf57nLm7uvBeRV1SFJS7cgClA9wuFJbehNFPr7RLgCVI+IyEkZjogIVwEUTy6Od0pjJfxnQJWx8GviqbKO5UXeMtIkiAKgeITDk/ri6wxXJnY7+StSgOrxE5SDwi+UYM0eFJYM0wsCFPT4H/eezDLkqBWAgp5K+O9U5eTKP5Z622637Wnn7hnnenbWU3uty95yNpEfkg/843Ha3av8T+7cp+BrBTnQIjz+QVHK8AFL28SAhexBUcrwXjP0gF7TG3y5xuLHj3ub4VTa3emWuxrJDQZAjwvgebTO5KVs8Tp4qTX1DyZxRGJMcMdau380mQSoxm6cc2kZ4VUmxjZrLc06UIUTWJHFqQST6BnrosMd2wVbgUEBEjJ8ZL9JtARJTf5CHxxxqwERrsdwyy2BqloMATi0qDkqw51qijqCRVwpNbQRSuQJH6WOQGHIB19H/fvfbuNk4Yb/IDSmMfa3I3jfCoOK2hfqnokAV6yrzSLHEjpuvmbrPCZjTGS4YekPoiO/DGcyn1ypmdthgJ6nWSbJJZOBq74BU4+MGZhA8tsAAAAASUVORK5CYII=)\n",
        "\n",
        "Write a function to calculate the harmonic sum of n-1.\n"
      ]
    },
    {
      "cell_type": "code",
      "execution_count": null,
      "metadata": {
        "id": "lBaz4n6cttGV"
      },
      "outputs": [],
      "source": [
        "def sum(n):\n",
        "    i = 1\n",
        "    s = 0.0\n",
        "    for i in range(1, n+1):\n",
        "        s = s + 1/i;\n",
        "    return s;\n",
        "n = 8\n",
        "print(round(sum(n), 6))"
      ]
    },
    {
      "cell_type": "code",
      "execution_count": null,
      "metadata": {
        "id": "nqASqdi1uc0I"
      },
      "outputs": [],
      "source": [
        "print(sum(8))"
      ]
    }
  ],
  "metadata": {
    "colab": {
      "collapsed_sections": [],
      "name": "「Practice」的副本",
      "provenance": []
    },
    "kernelspec": {
      "display_name": "Python 3",
      "name": "python3"
    },
    "language_info": {
      "name": "python"
    }
  },
  "nbformat": 4,
  "nbformat_minor": 0
}